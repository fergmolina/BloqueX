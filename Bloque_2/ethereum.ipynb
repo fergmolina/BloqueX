{
 "cells": [
  {
   "cell_type": "code",
   "execution_count": 1,
   "metadata": {},
   "outputs": [],
   "source": [
    "from web3 import Web3\n",
    "\n",
    "# Función que obtiene la cantidad de ether de una wallet\n",
    "def get_ether_balance(wallet_address, node_url):\n",
    "    web3 = Web3(Web3.HTTPProvider(node_url))\n",
    "    if not web3.isConnected():\n",
    "        print(\"Failed to connect to Ethereum node.\")\n",
    "        return\n",
    "\n",
    "    balance_wei = web3.eth.get_balance(wallet_address)\n",
    "    balance_ether = web3.fromWei(balance_wei, 'ether')\n",
    "    return balance_ether"
   ]
  },
  {
   "cell_type": "code",
   "execution_count": 5,
   "metadata": {},
   "outputs": [
    {
     "name": "stdout",
     "output_type": "stream",
     "text": [
      "La wallet de Vitalik Buterin posee 114.584708634901194244 ether\n"
     ]
    }
   ],
   "source": [
    "# Reemplaza con tu URL NaaS \n",
    "node_url = 'YOUR_INFURA_URL'\n",
    "\n",
    "# Wallet de Vitalik Buterin\n",
    "vitalik_wallet_address = '0xd8dA6BF26964aF9D7eEd9e03E53415D37aA96045'\n",
    "balance = get_ether_balance(vitalik_wallet_address, node_url)\n",
    "print('La wallet de Vitalik Buterin posee ' + str(balance) + ' ether') # Balance de Vitalik en ether"
   ]
  }
 ],
 "metadata": {
  "kernelspec": {
   "display_name": "base",
   "language": "python",
   "name": "python3"
  },
  "language_info": {
   "codemirror_mode": {
    "name": "ipython",
    "version": 3
   },
   "file_extension": ".py",
   "mimetype": "text/x-python",
   "name": "python",
   "nbconvert_exporter": "python",
   "pygments_lexer": "ipython3",
   "version": "3.9.7"
  }
 },
 "nbformat": 4,
 "nbformat_minor": 2
}
