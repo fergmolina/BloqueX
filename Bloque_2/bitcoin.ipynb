{
 "cells": [
  {
   "cell_type": "code",
   "execution_count": 57,
   "metadata": {},
   "outputs": [],
   "source": [
    "from bitcoincli import Bitcoin\n",
    "\n",
    "host = \"YOUR_HOST\"\n",
    "port = \"80\"\n",
    "username = \"YOUR_USERNAME\"\n",
    "password = \"YOUR_PASSWORD\"\n",
    "\n",
    "bitcoin = Bitcoin(username, password, host, port)"
   ]
  },
  {
   "cell_type": "code",
   "execution_count": 81,
   "metadata": {},
   "outputs": [
    {
     "name": "stdout",
     "output_type": "stream",
     "text": [
      "La wallet de Satoshi Nakamoto posee 49.68470167 BTC de acuerdo a la busqueda por PK\n",
      "La wallet de Satoshi Nakamoto posee 49.67467127 BTC de acuerdo a la busqueda por address\n"
     ]
    }
   ],
   "source": [
    "satoshi_pk = '04678afdb0fe5548271967f1a67130b7105cd6a828e03909a67962e0ea1f61deb649f6bc3f4cef38c4f35504e51ec112de5c384df7ba0b8d578a4c702b6bf11d5f'\n",
    "satoshi_address = '1A1zP1eP5QGefi2DMPTfTL5SLmv7DivfNa'\n",
    "\n",
    "balance_pk = bitcoin.scantxoutset(\"start\", [f\"combo({satoshi_pk})\"])['total_amount']\n",
    "balance_address = bitcoin.scantxoutset(\"start\", [f\"addr({satoshi_address})\"])['total_amount']\n",
    "\n",
    "print('La wallet de Satoshi Nakamoto posee ' + str(balance_pk) + ' BTC de acuerdo a la busqueda por PK')\n",
    "print('La wallet de Satoshi Nakamoto posee ' + str(balance_address) + ' BTC de acuerdo a la busqueda por address')"
   ]
  },
  {
   "cell_type": "code",
   "execution_count": 83,
   "metadata": {},
   "outputs": [
    {
     "name": "stdout",
     "output_type": "stream",
     "text": [
      "La wallet del minero del Bloque #10 posee 50.00264511 BTC de acuerdo a la busqueda por PK\n",
      "La wallet del minero del Bloque #10 posee 0.00264511 BTC de acuerdo a la busqueda por address\n"
     ]
    }
   ],
   "source": [
    "bloque_10_pk = '04fcc2888ca91cf0103d8c5797c256bf976e81f280205d002d85b9b622ed1a6f820866c7b5fe12285cfa78c035355d752fc94a398b67597dc4fbb5b386816425dd'\n",
    "bloque_10_address = '15yN7NPEpu82sHhB6TzCW5z5aXoamiKeGy'\n",
    "\n",
    "balance_pk = bitcoin.scantxoutset(\"start\", [f\"combo({bloque_10_pk})\"])['total_amount']\n",
    "balance_address = bitcoin.scantxoutset(\"start\", [f\"addr({bloque_10_address})\"])['total_amount']\n",
    "\n",
    "print('La wallet del minero del Bloque #10 posee ' + str(balance_pk) + ' BTC de acuerdo a la busqueda por PK')\n",
    "print('La wallet del minero del Bloque #10 posee ' + str(balance_address) + ' BTC de acuerdo a la busqueda por address')"
   ]
  }
 ],
 "metadata": {
  "kernelspec": {
   "display_name": "base",
   "language": "python",
   "name": "python3"
  },
  "language_info": {
   "codemirror_mode": {
    "name": "ipython",
    "version": 3
   },
   "file_extension": ".py",
   "mimetype": "text/x-python",
   "name": "python",
   "nbconvert_exporter": "python",
   "pygments_lexer": "ipython3",
   "version": "3.9.7"
  }
 },
 "nbformat": 4,
 "nbformat_minor": 2
}
