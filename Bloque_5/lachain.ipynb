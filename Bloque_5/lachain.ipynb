{
 "cells": [
  {
   "cell_type": "code",
   "execution_count": 4,
   "metadata": {},
   "outputs": [],
   "source": [
    "from web3 import Web3\n",
    "from web3.middleware import geth_poa_middleware\n",
    "\n",
    "# Función que obtiene la cantidad de ether de una wallet\n",
    "def get_ether_balance(wallet_address, node_url):\n",
    "    web3 = Web3(Web3.HTTPProvider(node_url))\n",
    "    web3.middleware_onion.inject(geth_poa_middleware, layer=0)    \n",
    "    if not web3.isConnected():\n",
    "        print(\"Failed to connect to Ethereum node.\")\n",
    "        return\n",
    "\n",
    "    balance_wei = web3.eth.get_balance(wallet_address)\n",
    "    balance_ether = web3.fromWei(balance_wei, 'ether')\n",
    "    return balance_ether"
   ]
  },
  {
   "cell_type": "code",
   "execution_count": 8,
   "metadata": {},
   "outputs": [
    {
     "name": "stdout",
     "output_type": "stream",
     "text": [
      "La wallet 0xc3A921669f3f092718eC6Fe6857203801CDFD411 posee 444.677812849284747507 LAC\n"
     ]
    }
   ],
   "source": [
    "# Reemplaza con tu URL NaaS \n",
    "node_url = 'https://lachain.rpc-nodes.cedalio.dev'\n",
    "\n",
    "# Wallet elegida\n",
    "wallet = '0xc3A921669f3f092718eC6Fe6857203801CDFD411'\n",
    "balance = get_ether_balance(wallet, node_url)\n",
    "print('La wallet ' + str(wallet) +  ' posee ' + str(balance) + ' LAC') # Balance de Vitalik en ether"
   ]
  }
 ],
 "metadata": {
  "kernelspec": {
   "display_name": "base",
   "language": "python",
   "name": "python3"
  },
  "language_info": {
   "codemirror_mode": {
    "name": "ipython",
    "version": 3
   },
   "file_extension": ".py",
   "mimetype": "text/x-python",
   "name": "python",
   "nbconvert_exporter": "python",
   "pygments_lexer": "ipython3",
   "version": "3.9.7"
  }
 },
 "nbformat": 4,
 "nbformat_minor": 2
}
